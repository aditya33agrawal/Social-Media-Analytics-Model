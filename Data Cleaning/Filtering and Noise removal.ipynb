{
  "nbformat": 4,
  "nbformat_minor": 0,
  "metadata": {
    "colab": {
      "provenance": []
    },
    "kernelspec": {
      "name": "python3",
      "display_name": "Python 3"
    },
    "language_info": {
      "name": "python"
    }
  },
  "cells": [
    {
      "cell_type": "markdown",
      "source": [
        "Sentiment Analysis\n"
      ],
      "metadata": {
        "id": "PwXO-U7HpCvU"
      }
    },
    {
      "cell_type": "code",
      "source": [
        "from google.colab import files\n",
        "\n",
        "\n",
        "uploaded = files.upload()\n"
      ],
      "metadata": {
        "colab": {
          "base_uri": "https://localhost:8080/",
          "height": 74
        },
        "id": "vSfwcuFg1bWE",
        "outputId": "f0d3a115-f429-4d1c-aa08-0148867289ee"
      },
      "execution_count": 23,
      "outputs": [
        {
          "output_type": "display_data",
          "data": {
            "text/plain": [
              "<IPython.core.display.HTML object>"
            ],
            "text/html": [
              "\n",
              "     <input type=\"file\" id=\"files-1d369774-551c-49d2-ba43-8a78c232edef\" name=\"files[]\" multiple disabled\n",
              "        style=\"border:none\" />\n",
              "     <output id=\"result-1d369774-551c-49d2-ba43-8a78c232edef\">\n",
              "      Upload widget is only available when the cell has been executed in the\n",
              "      current browser session. Please rerun this cell to enable.\n",
              "      </output>\n",
              "      <script>// Copyright 2017 Google LLC\n",
              "//\n",
              "// Licensed under the Apache License, Version 2.0 (the \"License\");\n",
              "// you may not use this file except in compliance with the License.\n",
              "// You may obtain a copy of the License at\n",
              "//\n",
              "//      http://www.apache.org/licenses/LICENSE-2.0\n",
              "//\n",
              "// Unless required by applicable law or agreed to in writing, software\n",
              "// distributed under the License is distributed on an \"AS IS\" BASIS,\n",
              "// WITHOUT WARRANTIES OR CONDITIONS OF ANY KIND, either express or implied.\n",
              "// See the License for the specific language governing permissions and\n",
              "// limitations under the License.\n",
              "\n",
              "/**\n",
              " * @fileoverview Helpers for google.colab Python module.\n",
              " */\n",
              "(function(scope) {\n",
              "function span(text, styleAttributes = {}) {\n",
              "  const element = document.createElement('span');\n",
              "  element.textContent = text;\n",
              "  for (const key of Object.keys(styleAttributes)) {\n",
              "    element.style[key] = styleAttributes[key];\n",
              "  }\n",
              "  return element;\n",
              "}\n",
              "\n",
              "// Max number of bytes which will be uploaded at a time.\n",
              "const MAX_PAYLOAD_SIZE = 100 * 1024;\n",
              "\n",
              "function _uploadFiles(inputId, outputId) {\n",
              "  const steps = uploadFilesStep(inputId, outputId);\n",
              "  const outputElement = document.getElementById(outputId);\n",
              "  // Cache steps on the outputElement to make it available for the next call\n",
              "  // to uploadFilesContinue from Python.\n",
              "  outputElement.steps = steps;\n",
              "\n",
              "  return _uploadFilesContinue(outputId);\n",
              "}\n",
              "\n",
              "// This is roughly an async generator (not supported in the browser yet),\n",
              "// where there are multiple asynchronous steps and the Python side is going\n",
              "// to poll for completion of each step.\n",
              "// This uses a Promise to block the python side on completion of each step,\n",
              "// then passes the result of the previous step as the input to the next step.\n",
              "function _uploadFilesContinue(outputId) {\n",
              "  const outputElement = document.getElementById(outputId);\n",
              "  const steps = outputElement.steps;\n",
              "\n",
              "  const next = steps.next(outputElement.lastPromiseValue);\n",
              "  return Promise.resolve(next.value.promise).then((value) => {\n",
              "    // Cache the last promise value to make it available to the next\n",
              "    // step of the generator.\n",
              "    outputElement.lastPromiseValue = value;\n",
              "    return next.value.response;\n",
              "  });\n",
              "}\n",
              "\n",
              "/**\n",
              " * Generator function which is called between each async step of the upload\n",
              " * process.\n",
              " * @param {string} inputId Element ID of the input file picker element.\n",
              " * @param {string} outputId Element ID of the output display.\n",
              " * @return {!Iterable<!Object>} Iterable of next steps.\n",
              " */\n",
              "function* uploadFilesStep(inputId, outputId) {\n",
              "  const inputElement = document.getElementById(inputId);\n",
              "  inputElement.disabled = false;\n",
              "\n",
              "  const outputElement = document.getElementById(outputId);\n",
              "  outputElement.innerHTML = '';\n",
              "\n",
              "  const pickedPromise = new Promise((resolve) => {\n",
              "    inputElement.addEventListener('change', (e) => {\n",
              "      resolve(e.target.files);\n",
              "    });\n",
              "  });\n",
              "\n",
              "  const cancel = document.createElement('button');\n",
              "  inputElement.parentElement.appendChild(cancel);\n",
              "  cancel.textContent = 'Cancel upload';\n",
              "  const cancelPromise = new Promise((resolve) => {\n",
              "    cancel.onclick = () => {\n",
              "      resolve(null);\n",
              "    };\n",
              "  });\n",
              "\n",
              "  // Wait for the user to pick the files.\n",
              "  const files = yield {\n",
              "    promise: Promise.race([pickedPromise, cancelPromise]),\n",
              "    response: {\n",
              "      action: 'starting',\n",
              "    }\n",
              "  };\n",
              "\n",
              "  cancel.remove();\n",
              "\n",
              "  // Disable the input element since further picks are not allowed.\n",
              "  inputElement.disabled = true;\n",
              "\n",
              "  if (!files) {\n",
              "    return {\n",
              "      response: {\n",
              "        action: 'complete',\n",
              "      }\n",
              "    };\n",
              "  }\n",
              "\n",
              "  for (const file of files) {\n",
              "    const li = document.createElement('li');\n",
              "    li.append(span(file.name, {fontWeight: 'bold'}));\n",
              "    li.append(span(\n",
              "        `(${file.type || 'n/a'}) - ${file.size} bytes, ` +\n",
              "        `last modified: ${\n",
              "            file.lastModifiedDate ? file.lastModifiedDate.toLocaleDateString() :\n",
              "                                    'n/a'} - `));\n",
              "    const percent = span('0% done');\n",
              "    li.appendChild(percent);\n",
              "\n",
              "    outputElement.appendChild(li);\n",
              "\n",
              "    const fileDataPromise = new Promise((resolve) => {\n",
              "      const reader = new FileReader();\n",
              "      reader.onload = (e) => {\n",
              "        resolve(e.target.result);\n",
              "      };\n",
              "      reader.readAsArrayBuffer(file);\n",
              "    });\n",
              "    // Wait for the data to be ready.\n",
              "    let fileData = yield {\n",
              "      promise: fileDataPromise,\n",
              "      response: {\n",
              "        action: 'continue',\n",
              "      }\n",
              "    };\n",
              "\n",
              "    // Use a chunked sending to avoid message size limits. See b/62115660.\n",
              "    let position = 0;\n",
              "    do {\n",
              "      const length = Math.min(fileData.byteLength - position, MAX_PAYLOAD_SIZE);\n",
              "      const chunk = new Uint8Array(fileData, position, length);\n",
              "      position += length;\n",
              "\n",
              "      const base64 = btoa(String.fromCharCode.apply(null, chunk));\n",
              "      yield {\n",
              "        response: {\n",
              "          action: 'append',\n",
              "          file: file.name,\n",
              "          data: base64,\n",
              "        },\n",
              "      };\n",
              "\n",
              "      let percentDone = fileData.byteLength === 0 ?\n",
              "          100 :\n",
              "          Math.round((position / fileData.byteLength) * 100);\n",
              "      percent.textContent = `${percentDone}% done`;\n",
              "\n",
              "    } while (position < fileData.byteLength);\n",
              "  }\n",
              "\n",
              "  // All done.\n",
              "  yield {\n",
              "    response: {\n",
              "      action: 'complete',\n",
              "    }\n",
              "  };\n",
              "}\n",
              "\n",
              "scope.google = scope.google || {};\n",
              "scope.google.colab = scope.google.colab || {};\n",
              "scope.google.colab._files = {\n",
              "  _uploadFiles,\n",
              "  _uploadFilesContinue,\n",
              "};\n",
              "})(self);\n",
              "</script> "
            ]
          },
          "metadata": {}
        },
        {
          "output_type": "stream",
          "name": "stdout",
          "text": [
            "Saving hp_printer_droppedduplicates.csv to hp_printer_droppedduplicates.csv\n"
          ]
        }
      ]
    },
    {
      "cell_type": "code",
      "execution_count": 24,
      "metadata": {
        "id": "oI7a3t_xpAlX",
        "colab": {
          "base_uri": "https://localhost:8080/"
        },
        "outputId": "ac2781a0-0ec9-4692-ad02-dc69162715f6"
      },
      "outputs": [
        {
          "output_type": "stream",
          "name": "stdout",
          "text": [
            "                                                 Tweets\n",
            "0     Today I bought two ink cartridges for my HP pr...\n",
            "1     Einkshop 65XL Ink Cartridge Compatible for Hp ...\n",
            "2     https://t.co/v5qSSxjMU2\\n\\nStep-by-Step Guide:...\n",
            "3     befon 207A W2210A Compatible for HP 207A for H...\n",
            "4     With our high-performance toner cartridges, yo...\n",
            "...                                                 ...\n",
            "1133  HINICOLE 301XL New Ink Cartridge For HP301 Car...\n",
            "1134  @alexfeinberg1 Agree with Alexander. Switched ...\n",
            "1135  For HP 728 728XL New Upgrade Cartridge Chip F9...\n",
            "1136  HP 685 Ink Cartridge - Black - Tinta Printer (...\n",
            "1137  HP 2776 DeskJet Ink Advantage All-in-One Print...\n",
            "\n",
            "[1138 rows x 1 columns]\n"
          ]
        }
      ],
      "source": [
        "import pandas as pd\n",
        "import io\n",
        "\n",
        "df = pd.read_csv(io.BytesIO(uploaded['hp_printer_droppedduplicates.csv']))\n",
        "print(df)\n"
      ]
    },
    {
      "cell_type": "code",
      "source": [
        "newdf = df.copy()\n",
        "\n",
        "print(newdf)"
      ],
      "metadata": {
        "id": "zzDjUqCH2NGg",
        "colab": {
          "base_uri": "https://localhost:8080/"
        },
        "outputId": "6624897c-4c69-4a25-b3e5-b8c94735d825"
      },
      "execution_count": 25,
      "outputs": [
        {
          "output_type": "stream",
          "name": "stdout",
          "text": [
            "                                                 Tweets\n",
            "0     Today I bought two ink cartridges for my HP pr...\n",
            "1     Einkshop 65XL Ink Cartridge Compatible for Hp ...\n",
            "2     https://t.co/v5qSSxjMU2\\n\\nStep-by-Step Guide:...\n",
            "3     befon 207A W2210A Compatible for HP 207A for H...\n",
            "4     With our high-performance toner cartridges, yo...\n",
            "...                                                 ...\n",
            "1133  HINICOLE 301XL New Ink Cartridge For HP301 Car...\n",
            "1134  @alexfeinberg1 Agree with Alexander. Switched ...\n",
            "1135  For HP 728 728XL New Upgrade Cartridge Chip F9...\n",
            "1136  HP 685 Ink Cartridge - Black - Tinta Printer (...\n",
            "1137  HP 2776 DeskJet Ink Advantage All-in-One Print...\n",
            "\n",
            "[1138 rows x 1 columns]\n"
          ]
        }
      ]
    },
    {
      "cell_type": "code",
      "source": [
        "#removal of links\n",
        "\n",
        "import re\n",
        "df['cleanLinks'] = df['Tweets'].apply(lambda x: re.split('https:\\/\\/.*', str(x))[0])"
      ],
      "metadata": {
        "id": "BIYfD_WouSt8"
      },
      "execution_count": 28,
      "outputs": []
    },
    {
      "cell_type": "code",
      "source": [
        "print(df)"
      ],
      "metadata": {
        "colab": {
          "base_uri": "https://localhost:8080/"
        },
        "id": "MBzUfqHQsiLU",
        "outputId": "814178f4-daf8-4407-df84-2a2145c472b1"
      },
      "execution_count": 29,
      "outputs": [
        {
          "output_type": "stream",
          "name": "stdout",
          "text": [
            "                                                 Tweets  \\\n",
            "0     Today I bought two ink cartridges for my HP pr...   \n",
            "1     Einkshop 65XL Ink Cartridge Compatible for Hp ...   \n",
            "2     https://t.co/v5qSSxjMU2\\n\\nStep-by-Step Guide:...   \n",
            "3     befon 207A W2210A Compatible for HP 207A for H...   \n",
            "4     With our high-performance toner cartridges, yo...   \n",
            "...                                                 ...   \n",
            "1133  HINICOLE 301XL New Ink Cartridge For HP301 Car...   \n",
            "1134  @alexfeinberg1 Agree with Alexander. Switched ...   \n",
            "1135  For HP 728 728XL New Upgrade Cartridge Chip F9...   \n",
            "1136  HP 685 Ink Cartridge - Black - Tinta Printer (...   \n",
            "1137  HP 2776 DeskJet Ink Advantage All-in-One Print...   \n",
            "\n",
            "                                             cleanLinks  \n",
            "0     Today I bought two ink cartridges for my HP pr...  \n",
            "1     Einkshop 65XL Ink Cartridge Compatible for Hp ...  \n",
            "2                                                        \n",
            "3     befon 207A W2210A Compatible for HP 207A for H...  \n",
            "4     With our high-performance toner cartridges, yo...  \n",
            "...                                                 ...  \n",
            "1133  HINICOLE 301XL New Ink Cartridge For HP301 Car...  \n",
            "1134  @alexfeinberg1 Agree with Alexander. Switched ...  \n",
            "1135  For HP 728 728XL New Upgrade Cartridge Chip F9...  \n",
            "1136  HP 685 Ink Cartridge - Black - Tinta Printer (...  \n",
            "1137  HP 2776 DeskJet Ink Advantage All-in-One Print...  \n",
            "\n",
            "[1138 rows x 2 columns]\n"
          ]
        }
      ]
    },
    {
      "cell_type": "code",
      "source": [
        "# Remove the duplicate rows\n",
        "unique_tweets = df.drop_duplicates()\n",
        "\n",
        "# Write the unique tweets to a new CSV file\n",
        "unique_tweets.to_csv(\"unique_tweets.csv\", index=False)"
      ],
      "metadata": {
        "id": "E_BQ4il9xB1R"
      },
      "execution_count": 30,
      "outputs": []
    },
    {
      "cell_type": "code",
      "source": [
        "from google.colab import files\n",
        "\n",
        "\n",
        "uploaded = files.upload()"
      ],
      "metadata": {
        "colab": {
          "base_uri": "https://localhost:8080/",
          "height": 74
        },
        "id": "NrLmcuHd3OX1",
        "outputId": "8b27c100-4d87-4ec4-fde8-43dbdaf408c9"
      },
      "execution_count": 31,
      "outputs": [
        {
          "output_type": "display_data",
          "data": {
            "text/plain": [
              "<IPython.core.display.HTML object>"
            ],
            "text/html": [
              "\n",
              "     <input type=\"file\" id=\"files-b0f91084-31d3-4936-810c-98a10e776184\" name=\"files[]\" multiple disabled\n",
              "        style=\"border:none\" />\n",
              "     <output id=\"result-b0f91084-31d3-4936-810c-98a10e776184\">\n",
              "      Upload widget is only available when the cell has been executed in the\n",
              "      current browser session. Please rerun this cell to enable.\n",
              "      </output>\n",
              "      <script>// Copyright 2017 Google LLC\n",
              "//\n",
              "// Licensed under the Apache License, Version 2.0 (the \"License\");\n",
              "// you may not use this file except in compliance with the License.\n",
              "// You may obtain a copy of the License at\n",
              "//\n",
              "//      http://www.apache.org/licenses/LICENSE-2.0\n",
              "//\n",
              "// Unless required by applicable law or agreed to in writing, software\n",
              "// distributed under the License is distributed on an \"AS IS\" BASIS,\n",
              "// WITHOUT WARRANTIES OR CONDITIONS OF ANY KIND, either express or implied.\n",
              "// See the License for the specific language governing permissions and\n",
              "// limitations under the License.\n",
              "\n",
              "/**\n",
              " * @fileoverview Helpers for google.colab Python module.\n",
              " */\n",
              "(function(scope) {\n",
              "function span(text, styleAttributes = {}) {\n",
              "  const element = document.createElement('span');\n",
              "  element.textContent = text;\n",
              "  for (const key of Object.keys(styleAttributes)) {\n",
              "    element.style[key] = styleAttributes[key];\n",
              "  }\n",
              "  return element;\n",
              "}\n",
              "\n",
              "// Max number of bytes which will be uploaded at a time.\n",
              "const MAX_PAYLOAD_SIZE = 100 * 1024;\n",
              "\n",
              "function _uploadFiles(inputId, outputId) {\n",
              "  const steps = uploadFilesStep(inputId, outputId);\n",
              "  const outputElement = document.getElementById(outputId);\n",
              "  // Cache steps on the outputElement to make it available for the next call\n",
              "  // to uploadFilesContinue from Python.\n",
              "  outputElement.steps = steps;\n",
              "\n",
              "  return _uploadFilesContinue(outputId);\n",
              "}\n",
              "\n",
              "// This is roughly an async generator (not supported in the browser yet),\n",
              "// where there are multiple asynchronous steps and the Python side is going\n",
              "// to poll for completion of each step.\n",
              "// This uses a Promise to block the python side on completion of each step,\n",
              "// then passes the result of the previous step as the input to the next step.\n",
              "function _uploadFilesContinue(outputId) {\n",
              "  const outputElement = document.getElementById(outputId);\n",
              "  const steps = outputElement.steps;\n",
              "\n",
              "  const next = steps.next(outputElement.lastPromiseValue);\n",
              "  return Promise.resolve(next.value.promise).then((value) => {\n",
              "    // Cache the last promise value to make it available to the next\n",
              "    // step of the generator.\n",
              "    outputElement.lastPromiseValue = value;\n",
              "    return next.value.response;\n",
              "  });\n",
              "}\n",
              "\n",
              "/**\n",
              " * Generator function which is called between each async step of the upload\n",
              " * process.\n",
              " * @param {string} inputId Element ID of the input file picker element.\n",
              " * @param {string} outputId Element ID of the output display.\n",
              " * @return {!Iterable<!Object>} Iterable of next steps.\n",
              " */\n",
              "function* uploadFilesStep(inputId, outputId) {\n",
              "  const inputElement = document.getElementById(inputId);\n",
              "  inputElement.disabled = false;\n",
              "\n",
              "  const outputElement = document.getElementById(outputId);\n",
              "  outputElement.innerHTML = '';\n",
              "\n",
              "  const pickedPromise = new Promise((resolve) => {\n",
              "    inputElement.addEventListener('change', (e) => {\n",
              "      resolve(e.target.files);\n",
              "    });\n",
              "  });\n",
              "\n",
              "  const cancel = document.createElement('button');\n",
              "  inputElement.parentElement.appendChild(cancel);\n",
              "  cancel.textContent = 'Cancel upload';\n",
              "  const cancelPromise = new Promise((resolve) => {\n",
              "    cancel.onclick = () => {\n",
              "      resolve(null);\n",
              "    };\n",
              "  });\n",
              "\n",
              "  // Wait for the user to pick the files.\n",
              "  const files = yield {\n",
              "    promise: Promise.race([pickedPromise, cancelPromise]),\n",
              "    response: {\n",
              "      action: 'starting',\n",
              "    }\n",
              "  };\n",
              "\n",
              "  cancel.remove();\n",
              "\n",
              "  // Disable the input element since further picks are not allowed.\n",
              "  inputElement.disabled = true;\n",
              "\n",
              "  if (!files) {\n",
              "    return {\n",
              "      response: {\n",
              "        action: 'complete',\n",
              "      }\n",
              "    };\n",
              "  }\n",
              "\n",
              "  for (const file of files) {\n",
              "    const li = document.createElement('li');\n",
              "    li.append(span(file.name, {fontWeight: 'bold'}));\n",
              "    li.append(span(\n",
              "        `(${file.type || 'n/a'}) - ${file.size} bytes, ` +\n",
              "        `last modified: ${\n",
              "            file.lastModifiedDate ? file.lastModifiedDate.toLocaleDateString() :\n",
              "                                    'n/a'} - `));\n",
              "    const percent = span('0% done');\n",
              "    li.appendChild(percent);\n",
              "\n",
              "    outputElement.appendChild(li);\n",
              "\n",
              "    const fileDataPromise = new Promise((resolve) => {\n",
              "      const reader = new FileReader();\n",
              "      reader.onload = (e) => {\n",
              "        resolve(e.target.result);\n",
              "      };\n",
              "      reader.readAsArrayBuffer(file);\n",
              "    });\n",
              "    // Wait for the data to be ready.\n",
              "    let fileData = yield {\n",
              "      promise: fileDataPromise,\n",
              "      response: {\n",
              "        action: 'continue',\n",
              "      }\n",
              "    };\n",
              "\n",
              "    // Use a chunked sending to avoid message size limits. See b/62115660.\n",
              "    let position = 0;\n",
              "    do {\n",
              "      const length = Math.min(fileData.byteLength - position, MAX_PAYLOAD_SIZE);\n",
              "      const chunk = new Uint8Array(fileData, position, length);\n",
              "      position += length;\n",
              "\n",
              "      const base64 = btoa(String.fromCharCode.apply(null, chunk));\n",
              "      yield {\n",
              "        response: {\n",
              "          action: 'append',\n",
              "          file: file.name,\n",
              "          data: base64,\n",
              "        },\n",
              "      };\n",
              "\n",
              "      let percentDone = fileData.byteLength === 0 ?\n",
              "          100 :\n",
              "          Math.round((position / fileData.byteLength) * 100);\n",
              "      percent.textContent = `${percentDone}% done`;\n",
              "\n",
              "    } while (position < fileData.byteLength);\n",
              "  }\n",
              "\n",
              "  // All done.\n",
              "  yield {\n",
              "    response: {\n",
              "      action: 'complete',\n",
              "    }\n",
              "  };\n",
              "}\n",
              "\n",
              "scope.google = scope.google || {};\n",
              "scope.google.colab = scope.google.colab || {};\n",
              "scope.google.colab._files = {\n",
              "  _uploadFiles,\n",
              "  _uploadFilesContinue,\n",
              "};\n",
              "})(self);\n",
              "</script> "
            ]
          },
          "metadata": {}
        },
        {
          "output_type": "stream",
          "name": "stdout",
          "text": [
            "Saving updated_tweets.csv to updated_tweets.csv\n"
          ]
        }
      ]
    },
    {
      "cell_type": "code",
      "source": [
        "updated_tw = pd.read_csv(io.BytesIO(uploaded['updated_tweets.csv']))\n",
        "print(updated_tw)"
      ],
      "metadata": {
        "colab": {
          "base_uri": "https://localhost:8080/"
        },
        "id": "3g3WqTGu6Yb6",
        "outputId": "b580ea5b-2b24-4504-d81c-ea9ebbdd6fa5"
      },
      "execution_count": 46,
      "outputs": [
        {
          "output_type": "stream",
          "name": "stdout",
          "text": [
            "                                                 Tweets\n",
            "0     Today I bought two ink cartridges for my HP pr...\n",
            "1     Einkshop 65XL Ink Cartridge Compatible for Hp ...\n",
            "2     befon 207A W2210A Compatible for HP 207A for H...\n",
            "3     With our high-performance toner cartridges, yo...\n",
            "4     OFFER: HP photosmart C4272 printer, copier, sc...\n",
            "...                                                 ...\n",
            "997   @GAFGRM Thank you for reaching out to HP Suppo...\n",
            "998   My HP all in one won't work since moving. I ge...\n",
            "999   @alexfeinberg1 Agree with Alexander. Switched ...\n",
            "1000  HP 685 Ink Cartridge - Black - Tinta Printer (...\n",
            "1001  HP 2776 DeskJet Ink Advantage All-in-One Print...\n",
            "\n",
            "[1002 rows x 1 columns]\n"
          ]
        }
      ]
    },
    {
      "cell_type": "markdown",
      "source": [
        "Removing  any mentions/ hashtags"
      ],
      "metadata": {
        "id": "j-zGCPof-S3-"
      }
    },
    {
      "cell_type": "code",
      "source": [
        "updated_tw[\"Tweets\"] = updated_tw[\"Tweets\"].apply(lambda x: re.sub(\"#\\w+|@\\w+\", \"\", x))"
      ],
      "metadata": {
        "id": "k-ABMEaZ6PqE"
      },
      "execution_count": 47,
      "outputs": []
    },
    {
      "cell_type": "code",
      "source": [
        "print(updated_tw)"
      ],
      "metadata": {
        "colab": {
          "base_uri": "https://localhost:8080/"
        },
        "id": "pJjkN_Bv6uCE",
        "outputId": "81a2b4dc-f025-400e-9381-9b663efef8fd"
      },
      "execution_count": 48,
      "outputs": [
        {
          "output_type": "stream",
          "name": "stdout",
          "text": [
            "                                                 Tweets\n",
            "0     Today I bought two ink cartridges for my HP pr...\n",
            "1     Einkshop 65XL Ink Cartridge Compatible for Hp ...\n",
            "2     befon 207A W2210A Compatible for HP 207A for H...\n",
            "3     With our high-performance toner cartridges, yo...\n",
            "4     OFFER: HP photosmart C4272 printer, copier, sc...\n",
            "...                                                 ...\n",
            "997    Thank you for reaching out to HP Support!\\nWe...\n",
            "998   My HP all in one won't work since moving. I ge...\n",
            "999    Agree with Alexander. Switched to a Brother l...\n",
            "1000  HP 685 Ink Cartridge - Black - Tinta Printer (...\n",
            "1001  HP 2776 DeskJet Ink Advantage All-in-One Print...\n",
            "\n",
            "[1002 rows x 1 columns]\n"
          ]
        }
      ]
    },
    {
      "cell_type": "markdown",
      "source": [
        "removing punctuations"
      ],
      "metadata": {
        "id": "S0kRmorh-bWr"
      }
    },
    {
      "cell_type": "code",
      "source": [
        "updated_tw[\"Tweets\"] = updated_tw[\"Tweets\"].apply(lambda x: x.replace(r\"[^\\w\\s]\", \"\"))\n",
        "print(updated_tw)"
      ],
      "metadata": {
        "colab": {
          "base_uri": "https://localhost:8080/"
        },
        "id": "RHCJCObw62uQ",
        "outputId": "912ffcf7-07c6-404b-bc9a-513e3082aa11"
      },
      "execution_count": 49,
      "outputs": [
        {
          "output_type": "stream",
          "name": "stdout",
          "text": [
            "                                                 Tweets\n",
            "0     Today I bought two ink cartridges for my HP pr...\n",
            "1     Einkshop 65XL Ink Cartridge Compatible for Hp ...\n",
            "2     befon 207A W2210A Compatible for HP 207A for H...\n",
            "3     With our high-performance toner cartridges, yo...\n",
            "4     OFFER: HP photosmart C4272 printer, copier, sc...\n",
            "...                                                 ...\n",
            "997    Thank you for reaching out to HP Support!\\nWe...\n",
            "998   My HP all in one won't work since moving. I ge...\n",
            "999    Agree with Alexander. Switched to a Brother l...\n",
            "1000  HP 685 Ink Cartridge - Black - Tinta Printer (...\n",
            "1001  HP 2776 DeskJet Ink Advantage All-in-One Print...\n",
            "\n",
            "[1002 rows x 1 columns]\n"
          ]
        }
      ]
    },
    {
      "cell_type": "code",
      "source": [
        "updated_tw.to_csv(\"clean_tweets.csv\", index=False)"
      ],
      "metadata": {
        "id": "uwLTM4pl-i0I"
      },
      "execution_count": 50,
      "outputs": []
    }
  ]
}